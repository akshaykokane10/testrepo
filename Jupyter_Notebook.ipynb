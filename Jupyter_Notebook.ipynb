{
  "metadata": {
    "kernelspec": {
      "name": "python",
      "display_name": "Pyolite",
      "language": "python"
    },
    "language_info": {
      "codemirror_mode": {
        "name": "python",
        "version": 3
      },
      "file_extension": ".py",
      "mimetype": "text/x-python",
      "name": "python",
      "nbconvert_exporter": "python",
      "pygments_lexer": "ipython3",
      "version": "3.8"
    }
  },
  "nbformat_minor": 4,
  "nbformat": 4,
  "cells": [
    {
      "cell_type": "markdown",
      "source": "<center>\n    <img src=\"https://s3-api.us-geo.objectstorage.softlayer.net/cf-courses-data/CognitiveClass/Logos/organization_logo/organization_logo.png\" width=\"300\" alt=\"cognitiveclass.ai logo\"  />\n</center>\n",
      "metadata": {}
    },
    {
      "cell_type": "markdown",
      "source": "#### Add your code below following the instructions given in the course\n",
      "metadata": {}
    },
    {
      "cell_type": "markdown",
      "source": "# My Jupyter Notebook on IBM Watson Studio",
      "metadata": {}
    },
    {
      "cell_type": "markdown",
      "source": "__Akshay Kokane__\n\nCurrent Occupation: KYC Operations TL\nDesired Occupation: Data Scientist job at a FinTech",
      "metadata": {}
    },
    {
      "cell_type": "markdown",
      "source": "_I am interested in data science because it has no limitations, there are so many possibilities and predictions that can be made using the right tools_",
      "metadata": {}
    },
    {
      "cell_type": "markdown",
      "source": "### My code in Cell 5 does a simple multiplication",
      "metadata": {}
    },
    {
      "cell_type": "code",
      "source": "((2+2)*3)/3",
      "metadata": {
        "trusted": true
      },
      "execution_count": 34,
      "outputs": [
        {
          "execution_count": 34,
          "output_type": "execute_result",
          "data": {
            "text/plain": "4.0"
          },
          "metadata": {}
        }
      ]
    },
    {
      "cell_type": "markdown",
      "source": "***\n> Programming languages:\n***\n* Python\n* Java\n* C++\n* PHP\n\n***\n\n> Tools for Data Science\n***\n1. SAS\n2. Apache Spark\n3. BigML\n4. D3\n5. MATLAB\n6. Excel\n7. ggplot2\n8. Tableau\n***\n***\n\n\n| Name | Position | Office | Age | Start date | Salary |\n| --- | --- | --- | --- | --- | --- |\n| Airi Satou | Accountant | Tokyo | 33 | 2008/11/28 | USD 162700 |\n| Angelica Ramos | Chief Executive Officer (CEO) | London | 47 | 2009/10/09 | USD 1200000 |\n| Ashton Cox| Junior Technical Author | San Francisco | 66 | 2009/01/12 | USD 86000 |\n| Bradley Greer | Software Engineer | London | 41 | 2012/10/13 | USD 132000 |",
      "metadata": {}
    },
    {
      "cell_type": "code",
      "source": "",
      "metadata": {},
      "execution_count": null,
      "outputs": []
    }
  ]
}